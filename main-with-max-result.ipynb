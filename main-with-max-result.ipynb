{
 "cells": [
  {
   "cell_type": "code",
   "execution_count": 1,
   "metadata": {},
   "outputs": [],
   "source": [
    "from bs4 import BeautifulSoup\n",
    "import urllib.request\n",
    "import string\n",
    "from Sastrawi.StopWordRemover.StopWordRemoverFactory import StopWordRemoverFactory\n",
    "from Sastrawi.Stemmer.StemmerFactory import StemmerFactory"
   ]
  },
  {
   "cell_type": "code",
   "execution_count": 2,
   "metadata": {},
   "outputs": [],
   "source": [
    "from tqdm import tqdm\n",
    "from sklearn.feature_extraction.text import TfidfVectorizer \n",
    "from sklearn.metrics.pairwise import cosine_similarity \n",
    "import numpy as np"
   ]
  },
  {
   "cell_type": "code",
   "execution_count": 3,
   "metadata": {},
   "outputs": [],
   "source": [
    "import itertools"
   ]
  },
  {
   "cell_type": "code",
   "execution_count": 4,
   "metadata": {},
   "outputs": [],
   "source": [
    "# scrap dari digilib"
   ]
  },
  {
   "cell_type": "code",
   "execution_count": 5,
   "metadata": {},
   "outputs": [],
   "source": [
    "docs_num = 400"
   ]
  },
  {
   "cell_type": "code",
   "execution_count": 6,
   "metadata": {},
   "outputs": [],
   "source": [
    "digilib_url = 'http://digilib.its.ac.id/publisher/51100/'"
   ]
  },
  {
   "cell_type": "code",
   "execution_count": 7,
   "metadata": {},
   "outputs": [],
   "source": [
    "paper = []"
   ]
  },
  {
   "cell_type": "code",
   "execution_count": 8,
   "metadata": {
    "scrolled": true
   },
   "outputs": [
    {
     "name": "stderr",
     "output_type": "stream",
     "text": [
      "paper: 100%|████████████████████████████████████████████████████████████████████████████████████████████████████████████████████████| 20/20 [00:02<00:00,  7.20paper/s]\n",
      "paper: 100%|████████████████████████████████████████████████████████████████████████████████████████████████████████████████████████| 20/20 [00:05<00:00,  3.89paper/s]\n",
      "paper: 100%|████████████████████████████████████████████████████████████████████████████████████████████████████████████████████████| 20/20 [00:02<00:00,  7.12paper/s]\n",
      "paper: 100%|████████████████████████████████████████████████████████████████████████████████████████████████████████████████████████| 20/20 [00:02<00:00,  7.15paper/s]\n",
      "paper: 100%|████████████████████████████████████████████████████████████████████████████████████████████████████████████████████████| 20/20 [00:02<00:00,  7.00paper/s]\n",
      "paper: 100%|████████████████████████████████████████████████████████████████████████████████████████████████████████████████████████| 20/20 [00:05<00:00,  3.87paper/s]\n",
      "paper: 100%|████████████████████████████████████████████████████████████████████████████████████████████████████████████████████████| 20/20 [00:02<00:00,  6.85paper/s]\n",
      "paper: 100%|████████████████████████████████████████████████████████████████████████████████████████████████████████████████████████| 20/20 [00:02<00:00,  7.09paper/s]\n",
      "paper: 100%|████████████████████████████████████████████████████████████████████████████████████████████████████████████████████████| 20/20 [00:02<00:00,  7.14paper/s]\n",
      "paper: 100%|████████████████████████████████████████████████████████████████████████████████████████████████████████████████████████| 20/20 [00:02<00:00,  6.95paper/s]\n",
      "paper: 100%|████████████████████████████████████████████████████████████████████████████████████████████████████████████████████████| 20/20 [00:02<00:00,  7.22paper/s]\n",
      "paper: 100%|████████████████████████████████████████████████████████████████████████████████████████████████████████████████████████| 20/20 [00:02<00:00,  7.06paper/s]\n",
      "paper: 100%|████████████████████████████████████████████████████████████████████████████████████████████████████████████████████████| 20/20 [00:02<00:00,  7.08paper/s]\n",
      "paper: 100%|████████████████████████████████████████████████████████████████████████████████████████████████████████████████████████| 20/20 [00:02<00:00,  7.05paper/s]\n",
      "paper: 100%|████████████████████████████████████████████████████████████████████████████████████████████████████████████████████████| 20/20 [00:02<00:00,  7.08paper/s]\n",
      "paper: 100%|████████████████████████████████████████████████████████████████████████████████████████████████████████████████████████| 20/20 [00:02<00:00,  7.23paper/s]\n",
      "paper: 100%|████████████████████████████████████████████████████████████████████████████████████████████████████████████████████████| 20/20 [00:02<00:00,  7.00paper/s]\n",
      "paper: 100%|████████████████████████████████████████████████████████████████████████████████████████████████████████████████████████| 20/20 [00:02<00:00,  7.10paper/s]\n",
      "paper: 100%|████████████████████████████████████████████████████████████████████████████████████████████████████████████████████████| 20/20 [00:02<00:00,  7.19paper/s]\n",
      "paper: 100%|████████████████████████████████████████████████████████████████████████████████████████████████████████████████████████| 20/20 [00:02<00:00,  6.90paper/s]\n"
     ]
    }
   ],
   "source": [
    "for i in range(0,docs_num,20):\n",
    "    page = urllib.request.urlopen(digilib_url)\n",
    "    soup = BeautifulSoup(page, 'html.parser')\n",
    "    docs = soup.find_all('span', attrs={'class': 'style5'})\n",
    "    link = []\n",
    "    for x in docs:\n",
    "        try:\n",
    "            link.append(x.find('a').get('href'))\n",
    "        except:\n",
    "            pass\n",
    "    for x in tqdm(link[:20], desc='paper', unit='paper'):\n",
    "        page = urllib.request.urlopen(x)\n",
    "        soup = BeautifulSoup(page, 'html.parser')\n",
    "        try:\n",
    "            title = soup.find('h2', attrs={'class': 'isi'}).find('i').getText()\n",
    "            abstract = soup.find('span', attrs={'class': 'teks'}).find('p').getText()\n",
    "            paper.append([x, title, abstract])\n",
    "        except:\n",
    "            pass"
   ]
  },
  {
   "cell_type": "code",
   "execution_count": 9,
   "metadata": {},
   "outputs": [
    {
     "data": {
      "text/plain": [
       "360"
      ]
     },
     "execution_count": 9,
     "metadata": {},
     "output_type": "execute_result"
    }
   ],
   "source": [
    "len(paper)"
   ]
  },
  {
   "cell_type": "code",
   "execution_count": 10,
   "metadata": {},
   "outputs": [],
   "source": [
    "# preprocessing"
   ]
  },
  {
   "cell_type": "code",
   "execution_count": 11,
   "metadata": {},
   "outputs": [],
   "source": [
    "factory = StopWordRemoverFactory()\n",
    "stopword = factory.create_stop_word_remover()\n",
    "stemmer = StemmerFactory().create_stemmer()"
   ]
  },
  {
   "cell_type": "code",
   "execution_count": 12,
   "metadata": {},
   "outputs": [],
   "source": [
    "words = []\n",
    "processed_paper = []"
   ]
  },
  {
   "cell_type": "code",
   "execution_count": 13,
   "metadata": {},
   "outputs": [
    {
     "name": "stderr",
     "output_type": "stream",
     "text": [
      "paper: 100%|██████████████████████████████████████████████████████████████████████████████████████████████████████████████████████| 360/360 [00:22<00:00, 15.85paper/s]\n"
     ]
    }
   ],
   "source": [
    "for x in tqdm(paper, desc='paper', unit='paper'):\n",
    "    text = x[2]\n",
    "    text = text.lower()\n",
    "    remove_punctuation_map = dict((ord(char), None) for char in string.punctuation)\n",
    "    text = text.translate(remove_punctuation_map)\n",
    "    text = stopword.remove(text)\n",
    "    text = text.split()\n",
    "    text = [stemmer.stem(x) for x in text]\n",
    "    processed_paper.append(' '.join(text))\n",
    "    text = list(set(text))\n",
    "    words += text"
   ]
  },
  {
   "cell_type": "code",
   "execution_count": 14,
   "metadata": {},
   "outputs": [
    {
     "data": {
      "text/plain": [
       "29320"
      ]
     },
     "execution_count": 14,
     "metadata": {},
     "output_type": "execute_result"
    }
   ],
   "source": [
    "len(words)"
   ]
  },
  {
   "cell_type": "code",
   "execution_count": 15,
   "metadata": {},
   "outputs": [],
   "source": [
    "# generate thesaurus"
   ]
  },
  {
   "cell_type": "code",
   "execution_count": 16,
   "metadata": {},
   "outputs": [],
   "source": [
    "thesaurus = {}"
   ]
  },
  {
   "cell_type": "code",
   "execution_count": 17,
   "metadata": {},
   "outputs": [],
   "source": [
    "words = list(set(words))"
   ]
  },
  {
   "cell_type": "code",
   "execution_count": 18,
   "metadata": {},
   "outputs": [
    {
     "name": "stderr",
     "output_type": "stream",
     "text": [
      "word: 100%|████████████████████████████████████████████████████████████████████████████████████████████████████████████████████████| 502/502 [07:22<00:00,  1.14word/s]\n"
     ]
    }
   ],
   "source": [
    "for x in tqdm(words, desc='word', unit='word'):\n",
    "    name = x\n",
    "    data = { \"q\": name }\n",
    "    encoded_data = urllib.parse.urlencode(data).encode(\"utf-8\")\n",
    "    content = urllib.request.urlopen(\"http://www.sinonimkata.com/search.php\", encoded_data)\n",
    "    soup = BeautifulSoup(content, 'html.parser')\n",
    "    try:\n",
    "        synonym = soup.find('td', attrs={'width': '90%'}).find_all('a')\n",
    "        synonym = [x.getText() for x in synonym]\n",
    "        thesaurus[x] = [x] + synonym\n",
    "    except:\n",
    "        thesaurus[x] = [name]"
   ]
  },
  {
   "cell_type": "code",
   "execution_count": 19,
   "metadata": {},
   "outputs": [],
   "source": [
    "# tf_idf"
   ]
  },
  {
   "cell_type": "code",
   "execution_count": 20,
   "metadata": {},
   "outputs": [],
   "source": [
    "vectorizer = TfidfVectorizer(use_idf=True)"
   ]
  },
  {
   "cell_type": "code",
   "execution_count": 38,
   "metadata": {},
   "outputs": [],
   "source": [
    "query = 'pengenalan kendaraan'"
   ]
  },
  {
   "cell_type": "code",
   "execution_count": 39,
   "metadata": {},
   "outputs": [],
   "source": [
    "query = query.lower()\n",
    "remove_punctuation_map = dict((ord(char), None) for char in string.punctuation)\n",
    "query = query.translate(remove_punctuation_map)\n",
    "query = stopword.remove(query)\n",
    "query = query.split()\n",
    "query = [stemmer.stem(x) for x in query]"
   ]
  },
  {
   "cell_type": "code",
   "execution_count": 40,
   "metadata": {},
   "outputs": [
    {
     "data": {
      "text/plain": [
       "['kenal', 'kendara']"
      ]
     },
     "execution_count": 40,
     "metadata": {},
     "output_type": "execute_result"
    }
   ],
   "source": [
    "query"
   ]
  },
  {
   "cell_type": "code",
   "execution_count": 41,
   "metadata": {},
   "outputs": [],
   "source": [
    "product_query = []\n",
    "list_synonym = []"
   ]
  },
  {
   "cell_type": "code",
   "execution_count": 42,
   "metadata": {},
   "outputs": [],
   "source": [
    "for x in query:\n",
    "    if x in words:\n",
    "        list_synonym.append(thesaurus[x])\n",
    "    else:\n",
    "        name = x\n",
    "        data = { \"q\": name }\n",
    "        encoded_data = urllib.parse.urlencode(data).encode(\"utf-8\")\n",
    "        content = urllib.request.urlopen(\"http://www.sinonimkata.com/search.php\", encoded_data)\n",
    "        soup = BeautifulSoup(content, 'html.parser')\n",
    "        try:\n",
    "            synonym = soup.find('td', attrs={'width': '90%'}).find_all('a')\n",
    "            synonym = [x.getText() for x in synonym]\n",
    "            thesaurus[x] = [x] + synonym\n",
    "            list_synonym.append(thesaurus[x])\n",
    "        except:\n",
    "            list_synonym.append([x])"
   ]
  },
  {
   "cell_type": "code",
   "execution_count": 56,
   "metadata": {},
   "outputs": [],
   "source": [
    "max_score = 0\n",
    "max_q = ''\n",
    "max_result = 0"
   ]
  },
  {
   "cell_type": "code",
   "execution_count": 57,
   "metadata": {},
   "outputs": [],
   "source": [
    "for x in itertools.product(*list_synonym):\n",
    "    x = [stemmer.stem(y) for y in x]\n",
    "    q = [' '.join(x)]\n",
    "    paper_tfidf = vectorizer.fit_transform(q + processed_paper)\n",
    "    q = paper_tfidf[0]\n",
    "    result = cosine_similarity(paper_tfidf, q)\n",
    "    idx = np.argsort(-result,axis=0).flatten()\n",
    "    final = [r for r in result if r[0] > 0.0]\n",
    "    if len(final) >= max_result:\n",
    "        if len(final) == max_result:\n",
    "            if result[idx[1]][0] > max_score:\n",
    "                max_score = result[idx[1]][0]\n",
    "                max_q = [' '.join(x)]\n",
    "                max_result = len(final)\n",
    "        else:\n",
    "            max_score = result[idx[1]][0]\n",
    "            max_q = [' '.join(x)]\n",
    "            max_result = len(final)"
   ]
  },
  {
   "cell_type": "code",
   "execution_count": 58,
   "metadata": {},
   "outputs": [
    {
     "name": "stdout",
     "output_type": "stream",
     "text": [
      "61 0.021086044691723642 ['kenal kendali']\n"
     ]
    }
   ],
   "source": [
    "print(max_result, max_score, max_q)"
   ]
  },
  {
   "cell_type": "code",
   "execution_count": 59,
   "metadata": {},
   "outputs": [
    {
     "name": "stdout",
     "output_type": "stream",
     "text": [
      "Paper 72 score : 0.021086044691723642\n",
      "Paper 90 score : 0.021086044691723642\n",
      "Paper 108 score : 0.021086044691723642\n",
      "Paper 126 score : 0.021086044691723642\n",
      "Paper 144 score : 0.021086044691723642\n"
     ]
    }
   ],
   "source": [
    "paper_tfidf = vectorizer.fit_transform(max_q + processed_paper) \n",
    "max_q = paper_tfidf[0]\n",
    "result = cosine_similarity(paper_tfidf, max_q)\n",
    "idx = np.argsort(-result,axis=0)[1:6].flatten()\n",
    "for x in idx:\n",
    "    print('Paper', x, 'score :', result[x][0])"
   ]
  },
  {
   "cell_type": "code",
   "execution_count": 60,
   "metadata": {},
   "outputs": [
    {
     "name": "stdout",
     "output_type": "stream",
     "text": [
      "Result 1\n",
      "IMPLEMENTASI MODUL HOUSE EDITOR DAN FITUR SOSIAL PADA APLIKASI PERMAINAN SOSIAL CARD WARLOCK SAGA PADA PERANGKAT ANDROID\n",
      "Card Warlock Saga adalah aplikasi permainan sosial yang juga\n",
      "mengandung unsur RPG turn-based game dan card game sehingga bisa\n",
      "dikatakan permainan ini bergenre turn-based collectible card yaitu bertema\n",
      "turn-based yang menggunakan kartu sebagai mekanisme pertarungan\n",
      "permainan. Pemain memiliki satu hero yang dikendalikan dan set kartu\n",
      "sebagai mekanisme pertarungan.\n",
      "Dikarenakan permainan ini merupakan permainan sosial maka\n",
      "permainan ini dibuat agar antar pemain dapat terjadi interaksi sehingga\n",
      "diimplementasikanlah fitur-fitur yang mendukung interaksi antar pemain\n",
      "seperti menambah teman saling bertukar barang dan mengirim pesan. Dan\n",
      "permainan ini akan diintegrasikan dengan jejaring sosial Facebook.\n",
      "Integrasi antara aplikasi permainan ini dengan jejaring sosial\n",
      "Facebook akan dibuat menggunakan kakas Facebook SDK for Unity dengan\n",
      "menggunakan layanan Facebook API. Dengan adanya integrasi dengan\n",
      "Facebook diharapkan agar memudahkan interaksi yang terjadi antar\n",
      "pemain.\n",
      "\n",
      "Result 2\n",
      "IMPLEMENTASI MODUL HOUSE EDITOR DAN FITUR SOSIAL PADA APLIKASI PERMAINAN SOSIAL CARD WARLOCK SAGA PADA PERANGKAT ANDROID\n",
      "Card Warlock Saga adalah aplikasi permainan sosial yang juga\n",
      "mengandung unsur RPG turn-based game dan card game sehingga bisa\n",
      "dikatakan permainan ini bergenre turn-based collectible card yaitu bertema\n",
      "turn-based yang menggunakan kartu sebagai mekanisme pertarungan\n",
      "permainan. Pemain memiliki satu hero yang dikendalikan dan set kartu\n",
      "sebagai mekanisme pertarungan.\n",
      "Dikarenakan permainan ini merupakan permainan sosial maka\n",
      "permainan ini dibuat agar antar pemain dapat terjadi interaksi sehingga\n",
      "diimplementasikanlah fitur-fitur yang mendukung interaksi antar pemain\n",
      "seperti menambah teman saling bertukar barang dan mengirim pesan. Dan\n",
      "permainan ini akan diintegrasikan dengan jejaring sosial Facebook.\n",
      "Integrasi antara aplikasi permainan ini dengan jejaring sosial\n",
      "Facebook akan dibuat menggunakan kakas Facebook SDK for Unity dengan\n",
      "menggunakan layanan Facebook API. Dengan adanya integrasi dengan\n",
      "Facebook diharapkan agar memudahkan interaksi yang terjadi antar\n",
      "pemain.\n",
      "\n",
      "Result 3\n",
      "IMPLEMENTASI MODUL HOUSE EDITOR DAN FITUR SOSIAL PADA APLIKASI PERMAINAN SOSIAL CARD WARLOCK SAGA PADA PERANGKAT ANDROID\n",
      "Card Warlock Saga adalah aplikasi permainan sosial yang juga\n",
      "mengandung unsur RPG turn-based game dan card game sehingga bisa\n",
      "dikatakan permainan ini bergenre turn-based collectible card yaitu bertema\n",
      "turn-based yang menggunakan kartu sebagai mekanisme pertarungan\n",
      "permainan. Pemain memiliki satu hero yang dikendalikan dan set kartu\n",
      "sebagai mekanisme pertarungan.\n",
      "Dikarenakan permainan ini merupakan permainan sosial maka\n",
      "permainan ini dibuat agar antar pemain dapat terjadi interaksi sehingga\n",
      "diimplementasikanlah fitur-fitur yang mendukung interaksi antar pemain\n",
      "seperti menambah teman saling bertukar barang dan mengirim pesan. Dan\n",
      "permainan ini akan diintegrasikan dengan jejaring sosial Facebook.\n",
      "Integrasi antara aplikasi permainan ini dengan jejaring sosial\n",
      "Facebook akan dibuat menggunakan kakas Facebook SDK for Unity dengan\n",
      "menggunakan layanan Facebook API. Dengan adanya integrasi dengan\n",
      "Facebook diharapkan agar memudahkan interaksi yang terjadi antar\n",
      "pemain.\n",
      "\n",
      "Result 4\n",
      "IMPLEMENTASI MODUL HOUSE EDITOR DAN FITUR SOSIAL PADA APLIKASI PERMAINAN SOSIAL CARD WARLOCK SAGA PADA PERANGKAT ANDROID\n",
      "Card Warlock Saga adalah aplikasi permainan sosial yang juga\n",
      "mengandung unsur RPG turn-based game dan card game sehingga bisa\n",
      "dikatakan permainan ini bergenre turn-based collectible card yaitu bertema\n",
      "turn-based yang menggunakan kartu sebagai mekanisme pertarungan\n",
      "permainan. Pemain memiliki satu hero yang dikendalikan dan set kartu\n",
      "sebagai mekanisme pertarungan.\n",
      "Dikarenakan permainan ini merupakan permainan sosial maka\n",
      "permainan ini dibuat agar antar pemain dapat terjadi interaksi sehingga\n",
      "diimplementasikanlah fitur-fitur yang mendukung interaksi antar pemain\n",
      "seperti menambah teman saling bertukar barang dan mengirim pesan. Dan\n",
      "permainan ini akan diintegrasikan dengan jejaring sosial Facebook.\n",
      "Integrasi antara aplikasi permainan ini dengan jejaring sosial\n",
      "Facebook akan dibuat menggunakan kakas Facebook SDK for Unity dengan\n",
      "menggunakan layanan Facebook API. Dengan adanya integrasi dengan\n",
      "Facebook diharapkan agar memudahkan interaksi yang terjadi antar\n",
      "pemain.\n",
      "\n",
      "Result 5\n",
      "IMPLEMENTASI MODUL HOUSE EDITOR DAN FITUR SOSIAL PADA APLIKASI PERMAINAN SOSIAL CARD WARLOCK SAGA PADA PERANGKAT ANDROID\n",
      "Card Warlock Saga adalah aplikasi permainan sosial yang juga\n",
      "mengandung unsur RPG turn-based game dan card game sehingga bisa\n",
      "dikatakan permainan ini bergenre turn-based collectible card yaitu bertema\n",
      "turn-based yang menggunakan kartu sebagai mekanisme pertarungan\n",
      "permainan. Pemain memiliki satu hero yang dikendalikan dan set kartu\n",
      "sebagai mekanisme pertarungan.\n",
      "Dikarenakan permainan ini merupakan permainan sosial maka\n",
      "permainan ini dibuat agar antar pemain dapat terjadi interaksi sehingga\n",
      "diimplementasikanlah fitur-fitur yang mendukung interaksi antar pemain\n",
      "seperti menambah teman saling bertukar barang dan mengirim pesan. Dan\n",
      "permainan ini akan diintegrasikan dengan jejaring sosial Facebook.\n",
      "Integrasi antara aplikasi permainan ini dengan jejaring sosial\n",
      "Facebook akan dibuat menggunakan kakas Facebook SDK for Unity dengan\n",
      "menggunakan layanan Facebook API. Dengan adanya integrasi dengan\n",
      "Facebook diharapkan agar memudahkan interaksi yang terjadi antar\n",
      "pemain.\n",
      "\n"
     ]
    }
   ],
   "source": [
    "for x in range(len(idx)): \n",
    "    print('Result', x+1) \n",
    "    print(paper[idx[x]-1][1]) \n",
    "    print(paper[idx[x]-1][2])\n",
    "    print()"
   ]
  },
  {
   "cell_type": "code",
   "execution_count": null,
   "metadata": {},
   "outputs": [],
   "source": []
  }
 ],
 "metadata": {
  "kernelspec": {
   "display_name": "Python 3",
   "language": "python",
   "name": "python3"
  },
  "language_info": {
   "codemirror_mode": {
    "name": "ipython",
    "version": 3
   },
   "file_extension": ".py",
   "mimetype": "text/x-python",
   "name": "python",
   "nbconvert_exporter": "python",
   "pygments_lexer": "ipython3",
   "version": "3.5.4"
  }
 },
 "nbformat": 4,
 "nbformat_minor": 2
}
