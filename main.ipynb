{
 "cells": [
  {
   "cell_type": "code",
   "execution_count": 1,
   "metadata": {},
   "outputs": [],
   "source": [
    "from bs4 import BeautifulSoup\n",
    "import urllib.request\n",
    "import string\n",
    "from Sastrawi.StopWordRemover.StopWordRemoverFactory import StopWordRemoverFactory\n",
    "from Sastrawi.Stemmer.StemmerFactory import StemmerFactory"
   ]
  },
  {
   "cell_type": "code",
   "execution_count": 19,
   "metadata": {},
   "outputs": [],
   "source": [
    "from tqdm import tqdm\n",
    "from sklearn.feature_extraction.text import TfidfVectorizer \n",
    "from sklearn.metrics.pairwise import cosine_similarity \n",
    "import numpy as np"
   ]
  },
  {
   "cell_type": "code",
   "execution_count": 25,
   "metadata": {},
   "outputs": [],
   "source": [
    "import itertools"
   ]
  },
  {
   "cell_type": "code",
   "execution_count": 3,
   "metadata": {},
   "outputs": [],
   "source": [
    "# scrap dari digilib"
   ]
  },
  {
   "cell_type": "code",
   "execution_count": 4,
   "metadata": {},
   "outputs": [],
   "source": [
    "docs_num = 20"
   ]
  },
  {
   "cell_type": "code",
   "execution_count": 5,
   "metadata": {},
   "outputs": [],
   "source": [
    "digilib_url = 'http://digilib.its.ac.id/publisher/51100/'"
   ]
  },
  {
   "cell_type": "code",
   "execution_count": 6,
   "metadata": {},
   "outputs": [],
   "source": [
    "paper = []"
   ]
  },
  {
   "cell_type": "code",
   "execution_count": 7,
   "metadata": {
    "scrolled": true
   },
   "outputs": [
    {
     "name": "stderr",
     "output_type": "stream",
     "text": [
      "paper: 100%|████████████████████████████████| 20/20 [00:16<00:00,  1.22paper/s]\n"
     ]
    }
   ],
   "source": [
    "for i in range(0,docs_num,20):\n",
    "    page = urllib.request.urlopen(digilib_url)\n",
    "    soup = BeautifulSoup(page, 'html.parser')\n",
    "    docs = soup.find_all('span', attrs={'class': 'style5'})\n",
    "    link = []\n",
    "    for x in docs:\n",
    "        try:\n",
    "            link.append(x.find('a').get('href'))\n",
    "        except:\n",
    "            pass\n",
    "    for x in tqdm(link[:20], desc='paper', unit='paper'):\n",
    "        page = urllib.request.urlopen(x)\n",
    "        soup = BeautifulSoup(page, 'html.parser')\n",
    "        try:\n",
    "            title = soup.find('h2', attrs={'class': 'isi'}).find('i').getText()\n",
    "            abstract = soup.find('span', attrs={'class': 'teks'}).find('p').getText()\n",
    "            paper.append([x, title, abstract])\n",
    "        except:\n",
    "            pass"
   ]
  },
  {
   "cell_type": "code",
   "execution_count": 8,
   "metadata": {},
   "outputs": [
    {
     "data": {
      "text/plain": [
       "18"
      ]
     },
     "execution_count": 8,
     "metadata": {},
     "output_type": "execute_result"
    }
   ],
   "source": [
    "len(paper)"
   ]
  },
  {
   "cell_type": "code",
   "execution_count": 9,
   "metadata": {},
   "outputs": [],
   "source": [
    "# preprocessing"
   ]
  },
  {
   "cell_type": "code",
   "execution_count": 10,
   "metadata": {},
   "outputs": [],
   "source": [
    "factory = StopWordRemoverFactory()\n",
    "stopword = factory.create_stop_word_remover()\n",
    "stemmer = StemmerFactory().create_stemmer()"
   ]
  },
  {
   "cell_type": "code",
   "execution_count": 11,
   "metadata": {},
   "outputs": [],
   "source": [
    "words = []\n",
    "processed_paper = []"
   ]
  },
  {
   "cell_type": "code",
   "execution_count": 12,
   "metadata": {},
   "outputs": [
    {
     "name": "stderr",
     "output_type": "stream",
     "text": [
      "paper: 100%|████████████████████████████████| 18/18 [02:39<00:00,  8.86s/paper]\n"
     ]
    }
   ],
   "source": [
    "for x in tqdm(paper, desc='paper', unit='paper'):\n",
    "    text = x[2]\n",
    "    text = text.lower()\n",
    "    remove_punctuation_map = dict((ord(char), None) for char in string.punctuation)\n",
    "    text = text.translate(remove_punctuation_map)\n",
    "    text = stopword.remove(text)\n",
    "    text = text.split()\n",
    "    text = [stemmer.stem(x) for x in text]\n",
    "    processed_paper.append(' '.join(text))\n",
    "    text = list(set(text))\n",
    "    words += text"
   ]
  },
  {
   "cell_type": "code",
   "execution_count": 13,
   "metadata": {},
   "outputs": [],
   "source": [
    "# generate thesaurus"
   ]
  },
  {
   "cell_type": "code",
   "execution_count": 14,
   "metadata": {},
   "outputs": [],
   "source": [
    "thesaurus = {}"
   ]
  },
  {
   "cell_type": "code",
   "execution_count": 15,
   "metadata": {},
   "outputs": [],
   "source": [
    "words = list(set(words))"
   ]
  },
  {
   "cell_type": "code",
   "execution_count": 94,
   "metadata": {},
   "outputs": [
    {
     "name": "stderr",
     "output_type": "stream",
     "text": [
      "word: 100%|████████████████████████████████| 502/502 [11:27<00:00,  1.37s/word]\n"
     ]
    }
   ],
   "source": [
    "for x in tqdm(words, desc='word', unit='word'):\n",
    "    name = x\n",
    "    data = { \"q\": name }\n",
    "    encoded_data = urllib.parse.urlencode(data).encode(\"utf-8\")\n",
    "    content = urllib.request.urlopen(\"http://www.sinonimkata.com/search.php\", encoded_data)\n",
    "    soup = BeautifulSoup(content, 'html.parser')\n",
    "    try:\n",
    "        synonym = soup.find('td', attrs={'width': '90%'}).find_all('a')\n",
    "        synonym = [x.getText() for x in synonym]\n",
    "        thesaurus[x] = [x] + synonym\n",
    "    except:\n",
    "        thesaurus[x] = [name]"
   ]
  },
  {
   "cell_type": "code",
   "execution_count": 17,
   "metadata": {},
   "outputs": [],
   "source": [
    "# tf_idf"
   ]
  },
  {
   "cell_type": "code",
   "execution_count": 20,
   "metadata": {},
   "outputs": [],
   "source": [
    "vectorizer = TfidfVectorizer(use_idf=True)"
   ]
  },
  {
   "cell_type": "code",
   "execution_count": 111,
   "metadata": {},
   "outputs": [],
   "source": [
    "query = 'hosting dengan aplikasi internet'"
   ]
  },
  {
   "cell_type": "code",
   "execution_count": 112,
   "metadata": {},
   "outputs": [],
   "source": [
    "query = query.lower()\n",
    "remove_punctuation_map = dict((ord(char), None) for char in string.punctuation)\n",
    "query = query.translate(remove_punctuation_map)\n",
    "query = stopword.remove(query)\n",
    "query = query.split()\n",
    "query = [stemmer.stem(x) for x in query]"
   ]
  },
  {
   "cell_type": "code",
   "execution_count": 113,
   "metadata": {},
   "outputs": [
    {
     "data": {
      "text/plain": [
       "['hosting', 'aplikasi', 'internet']"
      ]
     },
     "execution_count": 113,
     "metadata": {},
     "output_type": "execute_result"
    }
   ],
   "source": [
    "query"
   ]
  },
  {
   "cell_type": "code",
   "execution_count": 122,
   "metadata": {},
   "outputs": [],
   "source": [
    "product_query = []\n",
    "list_synonym = [thesaurus[x] for x in query]"
   ]
  },
  {
   "cell_type": "code",
   "execution_count": 100,
   "metadata": {},
   "outputs": [],
   "source": [
    "max_score = 0\n",
    "max_q = ''"
   ]
  },
  {
   "cell_type": "code",
   "execution_count": 101,
   "metadata": {},
   "outputs": [],
   "source": [
    "for x in itertools.product(*list_synonym):\n",
    "    q = [' '.join(x)]\n",
    "    paper_tfidf = vectorizer.fit_transform(q + processed_paper)\n",
    "    q = paper_tfidf[0]\n",
    "    result = cosine_similarity(paper_tfidf, q)\n",
    "    idx = np.argsort(-result,axis=0)[1].flatten()\n",
    "    if result[idx[0]][0] > max_score:\n",
    "        max_score = result[idx[0]][0]\n",
    "        max_q = [' '.join(x)]"
   ]
  },
  {
   "cell_type": "code",
   "execution_count": 104,
   "metadata": {},
   "outputs": [
    {
     "name": "stdout",
     "output_type": "stream",
     "text": [
      "0.4001678436644695 ['hosting aplikasi internet']\n"
     ]
    }
   ],
   "source": [
    "print(max_score, max_q)"
   ]
  },
  {
   "cell_type": "code",
   "execution_count": 106,
   "metadata": {},
   "outputs": [
    {
     "name": "stdout",
     "output_type": "stream",
     "text": [
      "Paper 3 score : 0.4001678436644695\n",
      "Paper 4 score : 0.4001678436644695\n",
      "Paper 1 score : 0.14351678792357103\n",
      "Paper 2 score : 0.14351678792357103\n",
      "Paper 18 score : 0.03263376888469902\n"
     ]
    }
   ],
   "source": [
    "paper_tfidf = vectorizer.fit_transform(max_q + processed_paper) \n",
    "max_q = paper_tfidf[0]\n",
    "result = cosine_similarity(paper_tfidf, max_q)\n",
    "idx = np.argsort(-result,axis=0)[1:6].flatten()\n",
    "for x in idx:\n",
    "    print('Paper', x, 'score :', result[x][0])"
   ]
  },
  {
   "cell_type": "code",
   "execution_count": 107,
   "metadata": {},
   "outputs": [
    {
     "name": "stdout",
     "output_type": "stream",
     "text": [
      "Result 1\n",
      "RANCANG BANGUN LAYANAN PLATFORM AS A SERVICE PAAS UNTUK MENDUKUNG SISTEM MULTI-TENANCY PENGEMBANGAN APLIKASI BERBASIS KOMPUTASI AWAN\n",
      "Layanan hosting aplikasi atau sering disebut Application Hosting  Web Hosting merupakan layanan yang jamak tersedia di Indonesia. Layanan ini memberikan wadah bagi siapapun untuk menempatakan aplikasi Web mereka beserta basis datanya di jaringan Internet tanpa perlu menyediakan sendiri infrastruktur Internet terdedikasi. Layanan ini memiliki berbagai macam bentuk. Salah satu yang paling banyak tersedia di Indonesia adalah Shared Web Hosting yang menyediakan layanan yang sangat murah. Pada jenis layanan ini penyewa hanya diberikan satu buah platform yang sama dengan aplikasi yang disimpan bersamaan pada satu buah server sehingga memungkinkan adanya bottleneck. Selain itu terdapat jenis layanan lain yaitu Virtual Private Server VPS yang menyediakan kendali penuh pada sistem melalui teknik yang disebut virtualisasi namun dengan konfigurasi yang sangat kompleks. Saat ini terdapat jenis layanan hosting baru yang disebut dengan Cloud Web Hosting. Layanan ini mengadopsi prinsip komputasi awan yaitu berupa Platform-as-a-Service PaaS yang menyediakan jasa platform bagi pengembang Web untuk menempatkan aplikasi mereka di Internet. Layanan ini menawarkan fitur untuk transparansi akses multi-platform skalabilitas reliabilitas keterbukaan API dan kemudahan pengguna. Namun layanan ini saat masih sangat jarang terutama di Indonesia yang masih menggunakan platform yang sama dengan Shared Web Hosting. Pada tugas akhir ini dilakukan perancangan dan implementasi sistem hosting atau pengembangan aplikasi yang mendukung banyak tenantpenyewa Multi-Tenancy mendukung banyak platform dan mendukung tiga prinsip komputasi awan yaitu self-service resource pooling dan metered service. Sistem ini mengadopsi beberapa fitur yang ada di Cloud Web Hosting modern sehingga bisa dibangun oleh pihak ketiga dengan mudah.\n",
      "\n",
      "Result 2\n",
      "DESIGN AND IMPLEMENTATION OF PLATFORM AS A SERVICE TO SERVE A MULTI-TENANCY APPLICATION PLATFORM BASED ON CLOUD COMPUTING\n",
      "Layanan hosting aplikasi atau sering disebut Application Hosting  Web Hosting merupakan layanan yang jamak tersedia di Indonesia. Layanan ini memberikan wadah bagi siapapun untuk menempatakan aplikasi Web mereka beserta basis datanya di jaringan Internet tanpa perlu menyediakan sendiri infrastruktur Internet terdedikasi. Layanan ini memiliki berbagai macam bentuk. Salah satu yang paling banyak tersedia di Indonesia adalah Shared Web Hosting yang menyediakan layanan yang sangat murah. Pada jenis layanan ini penyewa hanya diberikan satu buah platform yang sama dengan aplikasi yang disimpan bersamaan pada satu buah server sehingga memungkinkan adanya bottleneck. Selain itu terdapat jenis layanan lain yaitu Virtual Private Server VPS yang menyediakan kendali penuh pada sistem melalui teknik yang disebut virtualisasi namun dengan konfigurasi yang sangat kompleks. Saat ini terdapat jenis layanan hosting baru yang disebut dengan Cloud Web Hosting. Layanan ini mengadopsi prinsip komputasi awan yaitu berupa Platform-as-a-Service PaaS yang menyediakan jasa platform bagi pengembang Web untuk menempatkan aplikasi mereka di Internet. Layanan ini menawarkan fitur untuk transparansi akses multi-platform skalabilitas reliabilitas keterbukaan API dan kemudahan pengguna. Namun layanan ini saat masih sangat jarang terutama di Indonesia yang masih menggunakan platform yang sama dengan Shared Web Hosting. Pada tugas akhir ini dilakukan perancangan dan implementasi sistem hosting atau pengembangan aplikasi yang mendukung banyak tenantpenyewa Multi-Tenancy mendukung banyak platform dan mendukung tiga prinsip komputasi awan yaitu self-service resource pooling dan metered service. Sistem ini mengadopsi beberapa fitur yang ada di Cloud Web Hosting modern sehingga bisa dibangun oleh pihak ketiga dengan mudah.\n",
      "\n",
      "Result 3\n",
      "RANCANG BANGUN APLIKASI KOMUNIKASI AUDIO PADA JARINGAN NIRKABEL LOKAL BERBASIS ANDROID MENGGUNAKAN ALGORITMA JOINT CODING RATE CONTROL\n",
      "Perkembangan aplikasi Android dewasa ini sangat pesat aplikasi dikembangkan untuk menyelesaikan permasalahan diberbagai bidang. Saat ini ada beberapa kategori aplikasi Android yang dikembangkan seperti game aplikasi media sosial bahkan aplikasi yang menggantikan komunikasi telepon seperti aplikasi pengirim pesan komunikasi audio atau video. Aplikasi komunikasi audio merupakan salah satu yang popular. Seringkali kualitas kualitas pengiriman audio menurun seiring dengan penurunan kualitas jaringan sehingga menyebabkan komunikasi menjadi kurang nyaman. Smartphone Android saat ini kebanyakan sudah dilengkapi dengan konektivitas seperti bluetooth dan Wi-Fi. Smartphone Android mulai dari versi 4.0 saat ini juga sudah bisa mendukung koneksi langsung antar peers dan juga low-level audio API untuk pengaksesan driver suara dari perangkat. Pada tugas akhir ini mengusulkan solusi permasalahandengan memanfaatkan teknologi Android dengan membuat aplikasi audio yang bisa digunakan untuk berkomunikasi dengan menggunakan infrastruktur yang sudah ada maupun dengan menggunakan koneksi langsung antar peers dengan peningkatan kualitas audio berdasarkan kualitas kanal pada jaringan mengimplementasikan algoritma Modified Join Coding Rate Control JCRC yang memaksimalkan troughput dan meminimalkan delay. Pengujian yang dilakukan dengan metode ini mendapatkan hasil bahwa metode ini mampu menjaga kualitas suara dan mempertahankan delay.\n",
      "\n",
      "Result 4\n",
      "DESIGN AND IMPLEMENTATION OF ANDROID BASED AUDIO COMMUNICATION OVER WIRELESS LOCAL NETWORK USING JOINT CODING RATE CONTROL ALGORITHM\n",
      "Perkembangan aplikasi Android dewasa ini sangat pesat aplikasi dikembangkan untuk menyelesaikan permasalahan diberbagai bidang. Saat ini ada beberapa kategori aplikasi Android yang dikembangkan seperti game aplikasi media sosial bahkan aplikasi yang menggantikan komunikasi telepon seperti aplikasi pengirim pesan komunikasi audio atau video. Aplikasi komunikasi audio merupakan salah satu yang popular. Seringkali kualitas kualitas pengiriman audio menurun seiring dengan penurunan kualitas jaringan sehingga menyebabkan komunikasi menjadi kurang nyaman. Smartphone Android saat ini kebanyakan sudah dilengkapi dengan konektivitas seperti bluetooth dan Wi-Fi. Smartphone Android mulai dari versi 4.0 saat ini juga sudah bisa mendukung koneksi langsung antar peers dan juga low-level audio API untuk pengaksesan driver suara dari perangkat. Pada tugas akhir ini mengusulkan solusi permasalahandengan memanfaatkan teknologi Android dengan membuat aplikasi audio yang bisa digunakan untuk berkomunikasi dengan menggunakan infrastruktur yang sudah ada maupun dengan menggunakan koneksi langsung antar peers dengan peningkatan kualitas audio berdasarkan kualitas kanal pada jaringan mengimplementasikan algoritma Modified Join Coding Rate Control JCRC yang memaksimalkan troughput dan meminimalkan delay. Pengujian yang dilakukan dengan metode ini mendapatkan hasil bahwa metode ini mampu menjaga kualitas suara dan mempertahankan delay.\n",
      "\n",
      "Result 5\n",
      "IMPLEMENTASI MODUL HOUSE EDITOR DAN FITUR SOSIAL PADA APLIKASI PERMAINAN SOSIAL CARD WARLOCK SAGA PADA PERANGKAT ANDROID\n",
      "Card Warlock Saga adalah aplikasi permainan sosial yang juga\n",
      "mengandung unsur RPG turn-based game dan card game sehingga bisa\n",
      "dikatakan permainan ini bergenre turn-based collectible card yaitu bertema\n",
      "turn-based yang menggunakan kartu sebagai mekanisme pertarungan\n",
      "permainan. Pemain memiliki satu hero yang dikendalikan dan set kartu\n",
      "sebagai mekanisme pertarungan.\n",
      "Dikarenakan permainan ini merupakan permainan sosial maka\n",
      "permainan ini dibuat agar antar pemain dapat terjadi interaksi sehingga\n",
      "diimplementasikanlah fitur-fitur yang mendukung interaksi antar pemain\n",
      "seperti menambah teman saling bertukar barang dan mengirim pesan. Dan\n",
      "permainan ini akan diintegrasikan dengan jejaring sosial Facebook.\n",
      "Integrasi antara aplikasi permainan ini dengan jejaring sosial\n",
      "Facebook akan dibuat menggunakan kakas Facebook SDK for Unity dengan\n",
      "menggunakan layanan Facebook API. Dengan adanya integrasi dengan\n",
      "Facebook diharapkan agar memudahkan interaksi yang terjadi antar\n",
      "pemain.\n",
      "\n"
     ]
    }
   ],
   "source": [
    "for x in range(len(idx)): \n",
    "    print('Result', x+1) \n",
    "    print(paper[idx[x]-1][1]) \n",
    "    print(paper[idx[x]-1][2])\n",
    "    print()"
   ]
  },
  {
   "cell_type": "code",
   "execution_count": null,
   "metadata": {},
   "outputs": [],
   "source": []
  }
 ],
 "metadata": {
  "kernelspec": {
   "display_name": "Python 3",
   "language": "python",
   "name": "python3"
  },
  "language_info": {
   "codemirror_mode": {
    "name": "ipython",
    "version": 3
   },
   "file_extension": ".py",
   "mimetype": "text/x-python",
   "name": "python",
   "nbconvert_exporter": "python",
   "pygments_lexer": "ipython3",
   "version": "3.5.4"
  }
 },
 "nbformat": 4,
 "nbformat_minor": 2
}
