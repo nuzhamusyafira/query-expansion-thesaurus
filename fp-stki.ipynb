{
 "cells": [
  {
   "cell_type": "code",
   "execution_count": 1,
   "metadata": {},
   "outputs": [],
   "source": [
    "from bs4 import BeautifulSoup\n",
    "import urllib.request"
   ]
  },
  {
   "cell_type": "code",
   "execution_count": 2,
   "metadata": {},
   "outputs": [],
   "source": [
    "from tqdm import tqdm"
   ]
  },
  {
   "cell_type": "code",
   "execution_count": 3,
   "metadata": {},
   "outputs": [],
   "source": [
    "# scrap dari digilib"
   ]
  },
  {
   "cell_type": "code",
   "execution_count": 4,
   "metadata": {},
   "outputs": [],
   "source": [
    "docs_num = 400"
   ]
  },
  {
   "cell_type": "code",
   "execution_count": 5,
   "metadata": {},
   "outputs": [],
   "source": [
    "digilib_url = 'http://digilib.its.ac.id/publisher/51100/'"
   ]
  },
  {
   "cell_type": "code",
   "execution_count": 6,
   "metadata": {},
   "outputs": [],
   "source": [
    "paper = []"
   ]
  },
  {
   "cell_type": "code",
   "execution_count": 7,
   "metadata": {
    "scrolled": true
   },
   "outputs": [
    {
     "name": "stderr",
     "output_type": "stream",
     "text": [
      "paper: 100%|████████████████████████████████| 20/20 [00:35<00:00,  1.76s/paper]\n",
      "paper: 100%|████████████████████████████████| 20/20 [00:29<00:00,  1.46s/paper]\n",
      "paper: 100%|████████████████████████████████| 20/20 [00:22<00:00,  1.14s/paper]\n",
      "paper: 100%|████████████████████████████████| 20/20 [00:27<00:00,  1.35s/paper]\n",
      "paper: 100%|████████████████████████████████| 20/20 [00:18<00:00,  1.07paper/s]\n",
      "paper: 100%|████████████████████████████████| 20/20 [00:31<00:00,  1.57s/paper]\n",
      "paper: 100%|████████████████████████████████| 20/20 [00:24<00:00,  1.24s/paper]\n",
      "paper: 100%|████████████████████████████████| 20/20 [00:36<00:00,  1.81s/paper]\n",
      "paper: 100%|████████████████████████████████| 20/20 [00:23<00:00,  1.19s/paper]\n",
      "paper: 100%|████████████████████████████████| 20/20 [00:25<00:00,  1.27s/paper]\n",
      "paper: 100%|████████████████████████████████| 20/20 [00:31<00:00,  1.56s/paper]\n",
      "paper: 100%|████████████████████████████████| 20/20 [00:29<00:00,  1.48s/paper]\n",
      "paper: 100%|████████████████████████████████| 20/20 [00:15<00:00,  1.31paper/s]\n",
      "paper: 100%|████████████████████████████████| 20/20 [00:14<00:00,  1.43paper/s]\n",
      "paper: 100%|████████████████████████████████| 20/20 [00:24<00:00,  1.24s/paper]\n",
      "paper: 100%|████████████████████████████████| 20/20 [00:17<00:00,  1.12paper/s]\n",
      "paper: 100%|████████████████████████████████| 20/20 [00:20<00:00,  1.05s/paper]\n",
      "paper: 100%|████████████████████████████████| 20/20 [00:14<00:00,  1.34paper/s]\n",
      "paper: 100%|████████████████████████████████| 20/20 [00:12<00:00,  1.62paper/s]\n",
      "paper: 100%|████████████████████████████████| 20/20 [00:20<00:00,  1.04s/paper]\n"
     ]
    }
   ],
   "source": [
    "for i in range(0,docs_num,20):\n",
    "    page = urllib.request.urlopen(digilib_url)\n",
    "    soup = BeautifulSoup(page, 'html.parser')\n",
    "    docs = soup.find_all('span', attrs={'class': 'style5'})\n",
    "    link = []\n",
    "    for x in docs:\n",
    "        try:\n",
    "            link.append(x.find('a').get('href'))\n",
    "        except:\n",
    "            pass\n",
    "    for x in tqdm(link[:20], desc='paper', unit='paper'):\n",
    "        page = urllib.request.urlopen(x)\n",
    "        soup = BeautifulSoup(page, 'html.parser')\n",
    "        try:\n",
    "            title = soup.find('h2', attrs={'class': 'isi'}).find('i').getText()\n",
    "            abstract = soup.find('span', attrs={'class': 'teks'}).find('p').getText()\n",
    "            paper.append([x, title, abstract])\n",
    "        except:\n",
    "            pass"
   ]
  },
  {
   "cell_type": "code",
   "execution_count": 8,
   "metadata": {},
   "outputs": [
    {
     "data": {
      "text/plain": [
       "360"
      ]
     },
     "execution_count": 8,
     "metadata": {},
     "output_type": "execute_result"
    }
   ],
   "source": [
    "len(paper)"
   ]
  },
  {
   "cell_type": "code",
   "execution_count": 9,
   "metadata": {},
   "outputs": [],
   "source": [
    "# preprocessing"
   ]
  },
  {
   "cell_type": "code",
   "execution_count": null,
   "metadata": {},
   "outputs": [],
   "source": []
  },
  {
   "cell_type": "code",
   "execution_count": 10,
   "metadata": {},
   "outputs": [],
   "source": [
    "# mencoba scrap sinonimkata.com"
   ]
  },
  {
   "cell_type": "code",
   "execution_count": 11,
   "metadata": {},
   "outputs": [],
   "source": [
    "name = \"rancang\"\n",
    "data = { \"q\": name }\n",
    "encoded_data = urllib.parse.urlencode(data).encode(\"utf-8\")\n",
    "content = urllib.request.urlopen(\"http://www.sinonimkata.com/search.php\", encoded_data)\n",
    "soup = BeautifulSoup(content, 'html.parser')"
   ]
  },
  {
   "cell_type": "code",
   "execution_count": 12,
   "metadata": {},
   "outputs": [],
   "source": [
    "synonym = soup.find('td', attrs={'width': '90%'}).find_all('a')\n",
    "synonym = [x.getText() for x in synonym]"
   ]
  },
  {
   "cell_type": "code",
   "execution_count": 13,
   "metadata": {},
   "outputs": [
    {
     "data": {
      "text/plain": [
       "['bercadang',\n",
       " 'membakal',\n",
       " 'memikir-mikir',\n",
       " 'mempersiapkan',\n",
       " 'mempertimbangkan',\n",
       " 'menaja',\n",
       " 'mengagak-agak',\n",
       " 'mereka-reka']"
      ]
     },
     "execution_count": 13,
     "metadata": {},
     "output_type": "execute_result"
    }
   ],
   "source": [
    "synonym"
   ]
  }
 ],
 "metadata": {
  "kernelspec": {
   "display_name": "Python 3",
   "language": "python",
   "name": "python3"
  },
  "language_info": {
   "codemirror_mode": {
    "name": "ipython",
    "version": 3
   },
   "file_extension": ".py",
   "mimetype": "text/x-python",
   "name": "python",
   "nbconvert_exporter": "python",
   "pygments_lexer": "ipython3",
   "version": "3.5.4"
  }
 },
 "nbformat": 4,
 "nbformat_minor": 2
}
