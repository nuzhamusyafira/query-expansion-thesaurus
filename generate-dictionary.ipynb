{
 "cells": [
  {
   "cell_type": "code",
   "execution_count": 1,
   "metadata": {},
   "outputs": [],
   "source": [
    "from bs4 import BeautifulSoup\n",
    "import urllib.request"
   ]
  },
  {
   "cell_type": "code",
   "execution_count": 9,
   "metadata": {},
   "outputs": [],
   "source": [
    "sentence = ['nuzha', 'menanam', 'bunga', 'bunga', 'menanam', 'nuzha']"
   ]
  },
  {
   "cell_type": "code",
   "execution_count": 2,
   "metadata": {},
   "outputs": [],
   "source": [
    "name = \"rancang\"\n",
    "data = { \"q\": name }\n",
    "encoded_data = urllib.parse.urlencode(data).encode(\"utf-8\")\n",
    "content = urllib.request.urlopen(\"http://www.sinonimkata.com/search.php\", encoded_data)\n",
    "soup = BeautifulSoup(content, 'html.parser')"
   ]
  },
  {
   "cell_type": "code",
   "execution_count": 3,
   "metadata": {},
   "outputs": [],
   "source": [
    "synonym = soup.find('td', attrs={'width': '90%'}).find_all('a')\n",
    "synonym = [x.getText() for x in synonym]"
   ]
  },
  {
   "cell_type": "code",
   "execution_count": 12,
   "metadata": {},
   "outputs": [],
   "source": [
    "thesaurus = {}"
   ]
  },
  {
   "cell_type": "code",
   "execution_count": 10,
   "metadata": {},
   "outputs": [],
   "source": [
    "my_list = list(set(sentence))"
   ]
  },
  {
   "cell_type": "code",
   "execution_count": 11,
   "metadata": {},
   "outputs": [
    {
     "data": {
      "text/plain": [
       "['nuzha', 'bunga', 'menanam']"
      ]
     },
     "execution_count": 11,
     "metadata": {},
     "output_type": "execute_result"
    }
   ],
   "source": [
    "my_list"
   ]
  },
  {
   "cell_type": "code",
   "execution_count": 14,
   "metadata": {},
   "outputs": [],
   "source": [
    "for x in my_list:\n",
    "    name = x\n",
    "    data = { \"q\": name }\n",
    "    encoded_data = urllib.parse.urlencode(data).encode(\"utf-8\")\n",
    "    content = urllib.request.urlopen(\"http://www.sinonimkata.com/search.php\", encoded_data)\n",
    "    soup = BeautifulSoup(content, 'html.parser')\n",
    "    try:\n",
    "        synonym = soup.find('td', attrs={'width': '90%'}).find_all('a')\n",
    "        synonym = [x.getText() for x in synonym]\n",
    "        thesaurus[x] = synonym\n",
    "    except:\n",
    "        pass"
   ]
  },
  {
   "cell_type": "code",
   "execution_count": 15,
   "metadata": {},
   "outputs": [
    {
     "data": {
      "text/plain": [
       "{'bunga': ['kembang',\n",
       "  'kesuma',\n",
       "  'kujarat',\n",
       "  'puspa',\n",
       "  'puspita',\n",
       "  'sari',\n",
       "  'sekar',\n",
       "  'dekorasi',\n",
       "  'hiasan',\n",
       "  'ornamen',\n",
       "  'perempuan cantik',\n",
       "  'primadona',\n",
       "  'bumbu',\n",
       "  'embel-embel',\n",
       "  'komplemen',\n",
       "  'pelengkap',\n",
       "  'suplemen',\n",
       "  'tambahan',\n",
       "  'anak uang',\n",
       "  'anakan',\n",
       "  'riba'],\n",
       " 'menanam': ['memendam',\n",
       "  'menguburkan',\n",
       "  'menanamkan',\n",
       "  'memasang',\n",
       "  'menaruh',\n",
       "  'menempatkan',\n",
       "  'menugaskan',\n",
       "  'menginvestasikan',\n",
       "  'menyertakan (modal)',\n",
       "  'memangku',\n",
       "  'membatinkan',\n",
       "  'membekam',\n",
       "  'memeram',\n",
       "  'menyimpan']}"
      ]
     },
     "execution_count": 15,
     "metadata": {},
     "output_type": "execute_result"
    }
   ],
   "source": [
    "thesaurus"
   ]
  }
 ],
 "metadata": {
  "kernelspec": {
   "display_name": "Python 3",
   "language": "python",
   "name": "python3"
  },
  "language_info": {
   "codemirror_mode": {
    "name": "ipython",
    "version": 3
   },
   "file_extension": ".py",
   "mimetype": "text/x-python",
   "name": "python",
   "nbconvert_exporter": "python",
   "pygments_lexer": "ipython3",
   "version": "3.5.4"
  }
 },
 "nbformat": 4,
 "nbformat_minor": 2
}
