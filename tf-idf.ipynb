{
 "cells": [
  {
   "cell_type": "code",
   "execution_count": 1,
   "metadata": {},
   "outputs": [],
   "source": [
    "from bs4 import BeautifulSoup\n",
    "import urllib.request\n",
    "import string\n",
    "from Sastrawi.StopWordRemover.StopWordRemoverFactory import StopWordRemoverFactory\n",
    "from Sastrawi.Stemmer.StemmerFactory import StemmerFactory"
   ]
  },
  {
   "cell_type": "code",
   "execution_count": 100,
   "metadata": {},
   "outputs": [],
   "source": [
    "from tqdm import tqdm\n",
    "from sklearn.feature_extraction.text import TfidfVectorizer \n",
    "from sklearn.metrics.pairwise import cosine_similarity \n",
    "import numpy as np"
   ]
  },
  {
   "cell_type": "code",
   "execution_count": 3,
   "metadata": {},
   "outputs": [],
   "source": [
    "# scrap dari digilib"
   ]
  },
  {
   "cell_type": "code",
   "execution_count": 4,
   "metadata": {},
   "outputs": [],
   "source": [
    "docs_num = 20"
   ]
  },
  {
   "cell_type": "code",
   "execution_count": 5,
   "metadata": {},
   "outputs": [],
   "source": [
    "digilib_url = 'http://digilib.its.ac.id/publisher/51100/'"
   ]
  },
  {
   "cell_type": "code",
   "execution_count": 6,
   "metadata": {},
   "outputs": [],
   "source": [
    "paper = []"
   ]
  },
  {
   "cell_type": "code",
   "execution_count": 7,
   "metadata": {
    "scrolled": true
   },
   "outputs": [
    {
     "name": "stderr",
     "output_type": "stream",
     "text": [
      "paper: 100%|████████████████████████████████| 20/20 [00:15<00:00,  1.29paper/s]\n"
     ]
    }
   ],
   "source": [
    "for i in range(0,docs_num,20):\n",
    "    page = urllib.request.urlopen(digilib_url)\n",
    "    soup = BeautifulSoup(page, 'html.parser')\n",
    "    docs = soup.find_all('span', attrs={'class': 'style5'})\n",
    "    link = []\n",
    "    for x in docs:\n",
    "        try:\n",
    "            link.append(x.find('a').get('href'))\n",
    "        except:\n",
    "            pass\n",
    "    for x in tqdm(link[:20], desc='paper', unit='paper'):\n",
    "        page = urllib.request.urlopen(x)\n",
    "        soup = BeautifulSoup(page, 'html.parser')\n",
    "        try:\n",
    "            title = soup.find('h2', attrs={'class': 'isi'}).find('i').getText()\n",
    "            abstract = soup.find('span', attrs={'class': 'teks'}).find('p').getText()\n",
    "            paper.append([x, title, abstract])\n",
    "        except:\n",
    "            pass"
   ]
  },
  {
   "cell_type": "code",
   "execution_count": 8,
   "metadata": {},
   "outputs": [
    {
     "data": {
      "text/plain": [
       "18"
      ]
     },
     "execution_count": 8,
     "metadata": {},
     "output_type": "execute_result"
    }
   ],
   "source": [
    "len(paper)"
   ]
  },
  {
   "cell_type": "code",
   "execution_count": 9,
   "metadata": {},
   "outputs": [],
   "source": [
    "# preprocessing"
   ]
  },
  {
   "cell_type": "code",
   "execution_count": 10,
   "metadata": {},
   "outputs": [],
   "source": [
    "factory = StopWordRemoverFactory()\n",
    "stopword = factory.create_stop_word_remover()\n",
    "stemmer = StemmerFactory().create_stemmer()"
   ]
  },
  {
   "cell_type": "code",
   "execution_count": 12,
   "metadata": {},
   "outputs": [],
   "source": [
    "words = []\n",
    "processed_paper = [x[:2] for x in paper]"
   ]
  },
  {
   "cell_type": "code",
   "execution_count": 14,
   "metadata": {},
   "outputs": [],
   "source": [
    "for num, x in enumerate(paper):\n",
    "    text = x[2]\n",
    "    text = text.lower()\n",
    "    remove_punctuation_map = dict((ord(char), None) for char in string.punctuation)\n",
    "    text = text.translate(remove_punctuation_map)\n",
    "    text = stopword.remove(text)\n",
    "    text = text.split()\n",
    "    text = [stemmer.stem(x) for x in text]\n",
    "    processed_paper[num].append(' '.join(text))\n",
    "    text = list(set(text))\n",
    "    words += text"
   ]
  },
  {
   "cell_type": "code",
   "execution_count": 15,
   "metadata": {},
   "outputs": [
    {
     "data": {
      "text/plain": [
       "[['http://digilib.its.ac.id/ITS-paper-51021160009033/41690',\n",
       "  'RANCANG BANGUN APLIKASI KOMUNIKASI AUDIO PADA JARINGAN NIRKABEL LOKAL BERBASIS ANDROID MENGGUNAKAN ALGORITMA JOINT CODING RATE CONTROL',\n",
       "  'kembang aplikasi android dewasa sangat pesat aplikasi kembang selesai masalah bagai bidang beberapa kategori aplikasi android kembang game aplikasi media sosial bahkan aplikasi ganti komunikasi telepon aplikasi kirim pesan komunikasi audio video aplikasi komunikasi audio rupa salah satu popular seringkali kualitas kualitas kirim audio turun iring turun kualitas jaring sebab komunikasi jadi kurang nyaman smartphone android banyak lengkap konektivitas bluetooth wifi smartphone android mulai versi 40 sudah dukung koneksi langsung antar peers juga lowlevel audio api akses driver suara perangkat tugas akhir ini usul solusi permasalahandengan manfaat teknologi android buat aplikasi audio bisa guna komunikasi guna infrastruktur sudah maupun guna koneksi langsung antar peers tingkat kualitas audio dasar kualitas kanal jaring implementasi algoritma modified join coding rate control jcrc maksimal troughput minimal delay uji laku metode ini dapat hasil metode ini mampu jaga kualitas suara tahan delay'],\n",
       " ['http://digilib.its.ac.id/ITS-Undergraduate-51001160008854/41689',\n",
       "  'DESIGN AND IMPLEMENTATION OF ANDROID BASED AUDIO COMMUNICATION OVER WIRELESS LOCAL NETWORK USING JOINT CODING RATE CONTROL ALGORITHM',\n",
       "  'kembang aplikasi android dewasa sangat pesat aplikasi kembang selesai masalah bagai bidang beberapa kategori aplikasi android kembang game aplikasi media sosial bahkan aplikasi ganti komunikasi telepon aplikasi kirim pesan komunikasi audio video aplikasi komunikasi audio rupa salah satu popular seringkali kualitas kualitas kirim audio turun iring turun kualitas jaring sebab komunikasi jadi kurang nyaman smartphone android banyak lengkap konektivitas bluetooth wifi smartphone android mulai versi 40 sudah dukung koneksi langsung antar peers juga lowlevel audio api akses driver suara perangkat tugas akhir ini usul solusi permasalahandengan manfaat teknologi android buat aplikasi audio bisa guna komunikasi guna infrastruktur sudah maupun guna koneksi langsung antar peers tingkat kualitas audio dasar kualitas kanal jaring implementasi algoritma modified join coding rate control jcrc maksimal troughput minimal delay uji laku metode ini dapat hasil metode ini mampu jaga kualitas suara tahan delay'],\n",
       " ['http://digilib.its.ac.id/ITS-paper-51121160008949/41482',\n",
       "  'RANCANG BANGUN LAYANAN PLATFORM AS A SERVICE PAAS UNTUK MENDUKUNG SISTEM MULTI-TENANCY PENGEMBANGAN APLIKASI BERBASIS KOMPUTASI AWAN',\n",
       "  'layan hosting aplikasi sering sebut application hosting web hosting rupa layan jamak sedia indonesia layan beri wadah siapa menempatakan aplikasi web serta basis data jaring internet perlu sedia sendiri infrastruktur internet dedikasi layan milik bagai macam bentuk salah satu paling banyak sedia indonesia shared web hosting sedia layan sangat murah jenis layan sewa beri satu buah platform sama aplikasi simpan sama satu buah server mungkin ada bottleneck itu dapat jenis layan virtual private server vps sedia kendali penuh sistem lalu teknik sebut virtual konfigurasi sangat kompleks dapat jenis layan hosting baru sebut cloud web hosting layan adopsi prinsip komputasi awan upa platformasaservice paas sedia jasa platform kembang web tempat aplikasi internet layan tawar fitur transparansi akses multiplatform skalabilitas reliabilitas buka api mudah guna layan saat sangat jarang utama indonesia masih guna platform sama shared web hosting tugas akhir laku ancang implementasi sistem hosting kembang aplikasi dukung banyak tenantpenyewa multitenancy dukung banyak platform dukung tiga prinsip komputasi awan yaitu selfservice resource pooling metered service sistem ini adopsi beberapa fitur ada di cloud web hosting modern bisa bangun pihak tiga dengan mudah'],\n",
       " ['http://digilib.its.ac.id/ITS-Undergraduate-51001160008745/41481',\n",
       "  'DESIGN AND IMPLEMENTATION OF PLATFORM AS A SERVICE TO SERVE A MULTI-TENANCY APPLICATION PLATFORM BASED ON CLOUD COMPUTING',\n",
       "  'layan hosting aplikasi sering sebut application hosting web hosting rupa layan jamak sedia indonesia layan beri wadah siapa menempatakan aplikasi web serta basis data jaring internet perlu sedia sendiri infrastruktur internet dedikasi layan milik bagai macam bentuk salah satu paling banyak sedia indonesia shared web hosting sedia layan sangat murah jenis layan sewa beri satu buah platform sama aplikasi simpan sama satu buah server mungkin ada bottleneck itu dapat jenis layan virtual private server vps sedia kendali penuh sistem lalu teknik sebut virtual konfigurasi sangat kompleks dapat jenis layan hosting baru sebut cloud web hosting layan adopsi prinsip komputasi awan upa platformasaservice paas sedia jasa platform kembang web tempat aplikasi internet layan tawar fitur transparansi akses multiplatform skalabilitas reliabilitas buka api mudah guna layan saat sangat jarang utama indonesia masih guna platform sama shared web hosting tugas akhir laku ancang implementasi sistem hosting kembang aplikasi dukung banyak tenantpenyewa multitenancy dukung banyak platform dukung tiga prinsip komputasi awan yaitu selfservice resource pooling metered service sistem ini adopsi beberapa fitur ada di cloud web hosting modern bisa bangun pihak tiga dengan mudah'],\n",
       " ['http://digilib.its.ac.id/ITS-paper-51021160008842/41419',\n",
       "  'RANCANG BANGUN APLIKASI KURIKULUM UNTUK MENDUKUNG MANAJEMEN MUTU BELAJAR MENGAJAR PERGURUAN TINGGI STUDI KASUS ITS  \\r\\n',\n",
       "  'didik rupa proses terus kembang begitu komponen dalam hal ini kurikulum salah satu komponen sistem didik juga alami ubah sistem didik lebih baik ganti kurikulum akan hasil kompetensi baru rupa baik kompetensi belum perlu jamin mutu its bidang ajar sayang bentuk dokumentasi jamin mutu sebut ada sistem tentu tampil perlu jamin mutu pada tugas akhir rancang buah sistem informasi yang tangan perlu atas laku data kompetensi masingmasing jurus dasar periode kurikulum laku data lengkap elemen kurikulum sistem informasi kurikulum simkuri dapat bantu pihak manajemen mutu laku monitoring atas lengkap kurikulum masingmasing jurus utama kait bidang kompetensi ajar dan bagi atribut mata kuliah jurus dari hasil uji jurus di its simkuri ini dapat tampil kompetensi jurus sebut mampu untuk laku meta kompetensi kurikulum hingga pada mata kuliah simkuri dapat tampil daftar lengkap mata kuliah utama kait dengan silabus rencana ajar mata kuliah itu sendiri harap dengan guna simkuri dapat mudah pihak manajemen mutu laku evaluasi proses ajar utama bagi kompetensi kurikulum']]"
      ]
     },
     "execution_count": 15,
     "metadata": {},
     "output_type": "execute_result"
    }
   ],
   "source": [
    "processed_paper[:5]"
   ]
  },
  {
   "cell_type": "code",
   "execution_count": null,
   "metadata": {},
   "outputs": [],
   "source": [
    "# tf_idf"
   ]
  },
  {
   "cell_type": "code",
   "execution_count": 16,
   "metadata": {},
   "outputs": [],
   "source": [
    "processed_abstract = [x[2] for x in processed_paper]"
   ]
  },
  {
   "cell_type": "code",
   "execution_count": 92,
   "metadata": {},
   "outputs": [],
   "source": [
    "vectorizer = TfidfVectorizer(max_df=0.5, min_df=2, use_idf=True)\n",
    "query = 'hosting aplikasi internet'\n",
    "query = [query]\n",
    "paper_tfidf = vectorizer.fit_transform(query + processed_abstract) "
   ]
  },
  {
   "cell_type": "code",
   "execution_count": null,
   "metadata": {},
   "outputs": [],
   "source": [
    "# result"
   ]
  },
  {
   "cell_type": "code",
   "execution_count": 96,
   "metadata": {},
   "outputs": [],
   "source": [
    "query = paper_tfidf[0]\n",
    "result = cosine_similarity(paper_tfidf, query)"
   ]
  },
  {
   "cell_type": "code",
   "execution_count": 116,
   "metadata": {},
   "outputs": [
    {
     "name": "stdout",
     "output_type": "stream",
     "text": [
      "Paper 3 score : 0.4048475908081165\n",
      "Paper 4 score : 0.4048475908081165\n",
      "Paper 1 score : 0.14457989044139255\n",
      "Paper 2 score : 0.14457989044139255\n",
      "Paper 18 score : 0.044259448151226566\n"
     ]
    }
   ],
   "source": [
    "idx = np.argsort(-result,axis=0)[:6].flatten()[1:]\n",
    "for x in idx:\n",
    "    print('Paper', x, 'score :', result[x][0])"
   ]
  },
  {
   "cell_type": "code",
   "execution_count": 121,
   "metadata": {},
   "outputs": [
    {
     "name": "stdout",
     "output_type": "stream",
     "text": [
      "Result 1\n",
      "RANCANG BANGUN LAYANAN PLATFORM AS A SERVICE PAAS UNTUK MENDUKUNG SISTEM MULTI-TENANCY PENGEMBANGAN APLIKASI BERBASIS KOMPUTASI AWAN\n",
      "layan hosting aplikasi sering sebut application hosting web hosting rupa layan jamak sedia indonesia layan beri wadah siapa menempatakan aplikasi web serta basis data jaring internet perlu sedia sendiri infrastruktur internet dedikasi layan milik bagai macam bentuk salah satu paling banyak sedia indonesia shared web hosting sedia layan sangat murah jenis layan sewa beri satu buah platform sama aplikasi simpan sama satu buah server mungkin ada bottleneck itu dapat jenis layan virtual private server vps sedia kendali penuh sistem lalu teknik sebut virtual konfigurasi sangat kompleks dapat jenis layan hosting baru sebut cloud web hosting layan adopsi prinsip komputasi awan upa platformasaservice paas sedia jasa platform kembang web tempat aplikasi internet layan tawar fitur transparansi akses multiplatform skalabilitas reliabilitas buka api mudah guna layan saat sangat jarang utama indonesia masih guna platform sama shared web hosting tugas akhir laku ancang implementasi sistem hosting kembang aplikasi dukung banyak tenantpenyewa multitenancy dukung banyak platform dukung tiga prinsip komputasi awan yaitu selfservice resource pooling metered service sistem ini adopsi beberapa fitur ada di cloud web hosting modern bisa bangun pihak tiga dengan mudah\n",
      "\n",
      "Result 2\n",
      "DESIGN AND IMPLEMENTATION OF PLATFORM AS A SERVICE TO SERVE A MULTI-TENANCY APPLICATION PLATFORM BASED ON CLOUD COMPUTING\n",
      "layan hosting aplikasi sering sebut application hosting web hosting rupa layan jamak sedia indonesia layan beri wadah siapa menempatakan aplikasi web serta basis data jaring internet perlu sedia sendiri infrastruktur internet dedikasi layan milik bagai macam bentuk salah satu paling banyak sedia indonesia shared web hosting sedia layan sangat murah jenis layan sewa beri satu buah platform sama aplikasi simpan sama satu buah server mungkin ada bottleneck itu dapat jenis layan virtual private server vps sedia kendali penuh sistem lalu teknik sebut virtual konfigurasi sangat kompleks dapat jenis layan hosting baru sebut cloud web hosting layan adopsi prinsip komputasi awan upa platformasaservice paas sedia jasa platform kembang web tempat aplikasi internet layan tawar fitur transparansi akses multiplatform skalabilitas reliabilitas buka api mudah guna layan saat sangat jarang utama indonesia masih guna platform sama shared web hosting tugas akhir laku ancang implementasi sistem hosting kembang aplikasi dukung banyak tenantpenyewa multitenancy dukung banyak platform dukung tiga prinsip komputasi awan yaitu selfservice resource pooling metered service sistem ini adopsi beberapa fitur ada di cloud web hosting modern bisa bangun pihak tiga dengan mudah\n",
      "\n",
      "Result 3\n",
      "RANCANG BANGUN APLIKASI KOMUNIKASI AUDIO PADA JARINGAN NIRKABEL LOKAL BERBASIS ANDROID MENGGUNAKAN ALGORITMA JOINT CODING RATE CONTROL\n",
      "kembang aplikasi android dewasa sangat pesat aplikasi kembang selesai masalah bagai bidang beberapa kategori aplikasi android kembang game aplikasi media sosial bahkan aplikasi ganti komunikasi telepon aplikasi kirim pesan komunikasi audio video aplikasi komunikasi audio rupa salah satu popular seringkali kualitas kualitas kirim audio turun iring turun kualitas jaring sebab komunikasi jadi kurang nyaman smartphone android banyak lengkap konektivitas bluetooth wifi smartphone android mulai versi 40 sudah dukung koneksi langsung antar peers juga lowlevel audio api akses driver suara perangkat tugas akhir ini usul solusi permasalahandengan manfaat teknologi android buat aplikasi audio bisa guna komunikasi guna infrastruktur sudah maupun guna koneksi langsung antar peers tingkat kualitas audio dasar kualitas kanal jaring implementasi algoritma modified join coding rate control jcrc maksimal troughput minimal delay uji laku metode ini dapat hasil metode ini mampu jaga kualitas suara tahan delay\n",
      "\n",
      "Result 4\n",
      "DESIGN AND IMPLEMENTATION OF ANDROID BASED AUDIO COMMUNICATION OVER WIRELESS LOCAL NETWORK USING JOINT CODING RATE CONTROL ALGORITHM\n",
      "kembang aplikasi android dewasa sangat pesat aplikasi kembang selesai masalah bagai bidang beberapa kategori aplikasi android kembang game aplikasi media sosial bahkan aplikasi ganti komunikasi telepon aplikasi kirim pesan komunikasi audio video aplikasi komunikasi audio rupa salah satu popular seringkali kualitas kualitas kirim audio turun iring turun kualitas jaring sebab komunikasi jadi kurang nyaman smartphone android banyak lengkap konektivitas bluetooth wifi smartphone android mulai versi 40 sudah dukung koneksi langsung antar peers juga lowlevel audio api akses driver suara perangkat tugas akhir ini usul solusi permasalahandengan manfaat teknologi android buat aplikasi audio bisa guna komunikasi guna infrastruktur sudah maupun guna koneksi langsung antar peers tingkat kualitas audio dasar kualitas kanal jaring implementasi algoritma modified join coding rate control jcrc maksimal troughput minimal delay uji laku metode ini dapat hasil metode ini mampu jaga kualitas suara tahan delay\n",
      "\n",
      "Result 5\n",
      "IMPLEMENTASI MODUL HOUSE EDITOR DAN FITUR SOSIAL PADA APLIKASI PERMAINAN SOSIAL CARD WARLOCK SAGA PADA PERANGKAT ANDROID\n",
      "card warlock saga aplikasi main sosial juga kandung unsur rpg turnbased game card game bisa kata main genre turnbased collectible card tema turnbased guna kartu mekanisme tarung main main milik satu hero kendali set kartu bagai mekanisme tarung karena main rupa main sosial maka main buat antar main jadi interaksi sehingga implementasi fiturfitur dukung interaksi antar main seperti tambah teman saling tukar barang kirim pesan dan main integrasi jejaring sosial facebook integrasi aplikasi main jejaring sosial facebook akan buat guna kakas facebook sdk for unity dengan guna layan facebook api dengan ada integrasi dengan facebook harap mudah interaksi jadi antar main\n",
      "\n"
     ]
    }
   ],
   "source": [
    "for x in range(len(idx)): \n",
    "    print('Result', x+1) \n",
    "    print(processed_paper[idx[x]-1][1]) \n",
    "    print(processed_paper[idx[x]-1][2])\n",
    "    print()"
   ]
  }
 ],
 "metadata": {
  "kernelspec": {
   "display_name": "Python 3",
   "language": "python",
   "name": "python3"
  },
  "language_info": {
   "codemirror_mode": {
    "name": "ipython",
    "version": 3
   },
   "file_extension": ".py",
   "mimetype": "text/x-python",
   "name": "python",
   "nbconvert_exporter": "python",
   "pygments_lexer": "ipython3",
   "version": "3.5.4"
  }
 },
 "nbformat": 4,
 "nbformat_minor": 2
}
