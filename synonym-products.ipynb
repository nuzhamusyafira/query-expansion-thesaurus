{
 "cells": [
  {
   "cell_type": "code",
   "execution_count": 1,
   "metadata": {},
   "outputs": [],
   "source": [
    "import itertools"
   ]
  },
  {
   "cell_type": "code",
   "execution_count": 15,
   "metadata": {},
   "outputs": [],
   "source": [
    "list1 = ['square','circle','triangle']\n",
    "list2 = ['red','green']\n",
    "list3 = ['flower', 'city', 'view']\n",
    "array = [list1, list2, list3]"
   ]
  },
  {
   "cell_type": "code",
   "execution_count": 16,
   "metadata": {},
   "outputs": [
    {
     "name": "stdout",
     "output_type": "stream",
     "text": [
      "square red flower\n",
      "square red city\n",
      "square red view\n",
      "square green flower\n",
      "square green city\n",
      "square green view\n",
      "circle red flower\n",
      "circle red city\n",
      "circle red view\n",
      "circle green flower\n",
      "circle green city\n",
      "circle green view\n",
      "triangle red flower\n",
      "triangle red city\n",
      "triangle red view\n",
      "triangle green flower\n",
      "triangle green city\n",
      "triangle green view\n"
     ]
    }
   ],
   "source": [
    "for r in itertools.product(*array):\n",
    "    print(' '.join(r))"
   ]
  }
 ],
 "metadata": {
  "kernelspec": {
   "display_name": "Python 3",
   "language": "python",
   "name": "python3"
  },
  "language_info": {
   "codemirror_mode": {
    "name": "ipython",
    "version": 3
   },
   "file_extension": ".py",
   "mimetype": "text/x-python",
   "name": "python",
   "nbconvert_exporter": "python",
   "pygments_lexer": "ipython3",
   "version": "3.5.4"
  }
 },
 "nbformat": 4,
 "nbformat_minor": 2
}
