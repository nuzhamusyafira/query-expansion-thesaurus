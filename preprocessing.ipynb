{
 "cells": [
  {
   "cell_type": "code",
   "execution_count": 72,
   "metadata": {},
   "outputs": [],
   "source": [
    "from bs4 import BeautifulSoup\n",
    "import urllib.request\n",
    "import string\n",
    "from Sastrawi.StopWordRemover.StopWordRemoverFactory import StopWordRemoverFactory\n",
    "from Sastrawi.Stemmer.StemmerFactory import StemmerFactory"
   ]
  },
  {
   "cell_type": "code",
   "execution_count": 73,
   "metadata": {},
   "outputs": [],
   "source": [
    "# scrap dari digilib"
   ]
  },
  {
   "cell_type": "code",
   "execution_count": 74,
   "metadata": {},
   "outputs": [],
   "source": [
    "digilib_url =  'http://digilib.its.ac.id/publisher/51100'"
   ]
  },
  {
   "cell_type": "code",
   "execution_count": 75,
   "metadata": {},
   "outputs": [],
   "source": [
    "page = urllib.request.urlopen(digilib_url)\n",
    "soup = BeautifulSoup(page, 'html.parser')"
   ]
  },
  {
   "cell_type": "code",
   "execution_count": 76,
   "metadata": {},
   "outputs": [],
   "source": [
    "docs = soup.find_all('span', attrs={'class': 'style5'})\n",
    "link = []"
   ]
  },
  {
   "cell_type": "code",
   "execution_count": 77,
   "metadata": {},
   "outputs": [],
   "source": [
    "for x in docs:\n",
    "    try:\n",
    "        link.append(x.find('a').get('href'))\n",
    "    except:\n",
    "        pass"
   ]
  },
  {
   "cell_type": "code",
   "execution_count": 79,
   "metadata": {},
   "outputs": [],
   "source": [
    "paper = []\n",
    "for x in link:\n",
    "    page = urllib.request.urlopen(x)\n",
    "    soup = BeautifulSoup(page, 'html.parser')\n",
    "    try:\n",
    "        title = soup.find('h2', attrs={'class': 'isi'}).find('i').getText()\n",
    "        abstract = soup.find('span', attrs={'class': 'teks'}).find('p').getText()\n",
    "        paper.append([x, title, abstract])\n",
    "    except:\n",
    "        pass"
   ]
  },
  {
   "cell_type": "code",
   "execution_count": 80,
   "metadata": {},
   "outputs": [
    {
     "data": {
      "text/plain": [
       "'Heart Meister merupakan permainan sosial pada perangkat\\r\\nsmartphone. Permainan Heart Meister bergenre Role Play Game RPG\\r\\ndengan tema fantasi. Permainan ini berfokus pada pertarungan antar pet\\r\\nyang dimiliki pemain. Setiap pet memiliki atribut sebagai indikator\\r\\nkekuatannya. Level dari masing-masing atribut bisa dinaikkan dengan\\r\\nmenyelesaikan dungeon yang ada. Akan tetapi terkadang pemain ingin\\r\\nmenaikkan level dari atribut tersebut secepat mungkin untuk menjadikan\\r\\npet-nya semakin kuat. Masalah lain yaitu pet yang bukan merupakan pet\\r\\nutama dari pemain akan susah dinaikkan level atributnya karena jarang\\r\\natau tidak pernah dipakai. Dengan demikian dibutuhkan suatu sistem\\r\\nuntuk menaikkan level atribut dari pet secara cepat dan menarik.\\r\\nModul mini game ini dibuat dengan tujuan untuk memenuhi\\r\\nkebutuhan penaikan level atribut dari pet pada permainan Heart Meister.\\r\\nMasing-masing atribut dari pet dapat dinaikkan dengan jenis mini game\\r\\nyang berbeda. Hasil penaikan level atribut yang didapat berdasarkan\\r\\nberhasil atau tidaknya pemain dalam menyelesaikan mini game.\\r\\nModul mini games dibangun dengan menerapkan konsep Builder\\r\\nPattern. Builder pattern digunakan untuk mengatur pembuatan level\\r\\npada mini game. Dengan penerapan builder pattern ini pembuatan level\\r\\ndari tiap mini game ditangani oleh kelas yang sama. Dengan demikian\\r\\npenerapan builder pattern ini akan memudahkan jika terjadi\\r\\npenambahan level dari mini game.'"
      ]
     },
     "execution_count": 80,
     "metadata": {},
     "output_type": "execute_result"
    }
   ],
   "source": [
    "paper[11][2]"
   ]
  },
  {
   "cell_type": "code",
   "execution_count": 81,
   "metadata": {},
   "outputs": [],
   "source": [
    "# preprocessing"
   ]
  },
  {
   "cell_type": "code",
   "execution_count": 82,
   "metadata": {},
   "outputs": [],
   "source": [
    "factory = StopWordRemoverFactory()\n",
    "stopword = factory.create_stop_word_remover()\n",
    "stemmer = StemmerFactory().create_stemmer()"
   ]
  },
  {
   "cell_type": "code",
   "execution_count": 84,
   "metadata": {},
   "outputs": [
    {
     "name": "stdout",
     "output_type": "stream",
     "text": [
      "['kembang', 'aplikasi', 'android', 'dewasa', 'sangat', 'pesat', 'aplikasi', 'kembang', 'selesai', 'masalah', 'bagai', 'bidang', 'beberapa', 'kategori', 'aplikasi', 'android', 'kembang', 'game', 'aplikasi', 'media', 'sosial', 'bahkan', 'aplikasi', 'ganti', 'komunikasi', 'telepon', 'aplikasi', 'kirim', 'pesan', 'komunikasi', 'audio', 'video', 'aplikasi', 'komunikasi', 'audio', 'rupa', 'salah', 'satu', 'popular', 'seringkali', 'kualitas', 'kualitas', 'kirim', 'audio', 'turun', 'iring', 'turun', 'kualitas', 'jaring', 'sebab', 'komunikasi', 'jadi', 'kurang', 'nyaman', 'smartphone', 'android', 'banyak', 'lengkap', 'konektivitas', 'bluetooth', 'wifi', 'smartphone', 'android', 'mulai', 'versi', '40', 'sudah', 'dukung', 'koneksi', 'langsung', 'antar', 'peers', 'juga', 'lowlevel', 'audio', 'api', 'akses', 'driver', 'suara', 'perangkat', 'tugas', 'akhir', 'ini', 'usul', 'solusi', 'permasalahandengan', 'manfaat', 'teknologi', 'android', 'buat', 'aplikasi', 'audio', 'bisa', 'guna', 'komunikasi', 'guna', 'infrastruktur', 'sudah', 'maupun', 'guna', 'koneksi', 'langsung', 'antar', 'peers', 'tingkat', 'kualitas', 'audio', 'dasar', 'kualitas', 'kanal', 'jaring', 'implementasi', 'algoritma', 'modified', 'join', 'coding', 'rate', 'control', 'jcrc', 'maksimal', 'troughput', 'minimal', 'delay', 'uji', 'laku', 'metode', 'ini', 'dapat', 'hasil', 'metode', 'ini', 'mampu', 'jaga', 'kualitas', 'suara', 'tahan', 'delay']\n",
      "['kembang', 'aplikasi', 'android', 'dewasa', 'sangat', 'pesat', 'aplikasi', 'kembang', 'selesai', 'masalah', 'bagai', 'bidang', 'beberapa', 'kategori', 'aplikasi', 'android', 'kembang', 'game', 'aplikasi', 'media', 'sosial', 'bahkan', 'aplikasi', 'ganti', 'komunikasi', 'telepon', 'aplikasi', 'kirim', 'pesan', 'komunikasi', 'audio', 'video', 'aplikasi', 'komunikasi', 'audio', 'rupa', 'salah', 'satu', 'popular', 'seringkali', 'kualitas', 'kualitas', 'kirim', 'audio', 'turun', 'iring', 'turun', 'kualitas', 'jaring', 'sebab', 'komunikasi', 'jadi', 'kurang', 'nyaman', 'smartphone', 'android', 'banyak', 'lengkap', 'konektivitas', 'bluetooth', 'wifi', 'smartphone', 'android', 'mulai', 'versi', '40', 'sudah', 'dukung', 'koneksi', 'langsung', 'antar', 'peers', 'juga', 'lowlevel', 'audio', 'api', 'akses', 'driver', 'suara', 'perangkat', 'tugas', 'akhir', 'ini', 'usul', 'solusi', 'permasalahandengan', 'manfaat', 'teknologi', 'android', 'buat', 'aplikasi', 'audio', 'bisa', 'guna', 'komunikasi', 'guna', 'infrastruktur', 'sudah', 'maupun', 'guna', 'koneksi', 'langsung', 'antar', 'peers', 'tingkat', 'kualitas', 'audio', 'dasar', 'kualitas', 'kanal', 'jaring', 'implementasi', 'algoritma', 'modified', 'join', 'coding', 'rate', 'control', 'jcrc', 'maksimal', 'troughput', 'minimal', 'delay', 'uji', 'laku', 'metode', 'ini', 'dapat', 'hasil', 'metode', 'ini', 'mampu', 'jaga', 'kualitas', 'suara', 'tahan', 'delay']\n",
      "['layan', 'hosting', 'aplikasi', 'sering', 'sebut', 'application', 'hosting', 'web', 'hosting', 'rupa', 'layan', 'jamak', 'sedia', 'indonesia', 'layan', 'beri', 'wadah', 'siapa', 'menempatakan', 'aplikasi', 'web', 'serta', 'basis', 'data', 'jaring', 'internet', 'perlu', 'sedia', 'sendiri', 'infrastruktur', 'internet', 'dedikasi', 'layan', 'milik', 'bagai', 'macam', 'bentuk', 'salah', 'satu', 'paling', 'banyak', 'sedia', 'indonesia', 'shared', 'web', 'hosting', 'sedia', 'layan', 'sangat', 'murah', 'jenis', 'layan', 'sewa', 'beri', 'satu', 'buah', 'platform', 'sama', 'aplikasi', 'simpan', 'sama', 'satu', 'buah', 'server', 'mungkin', 'ada', 'bottleneck', 'itu', 'dapat', 'jenis', 'layan', 'virtual', 'private', 'server', 'vps', 'sedia', 'kendali', 'penuh', 'sistem', 'lalu', 'teknik', 'sebut', 'virtual', 'konfigurasi', 'sangat', 'kompleks', 'dapat', 'jenis', 'layan', 'hosting', 'baru', 'sebut', 'cloud', 'web', 'hosting', 'layan', 'adopsi', 'prinsip', 'komputasi', 'awan', 'upa', 'platformasaservice', 'paas', 'sedia', 'jasa', 'platform', 'kembang', 'web', 'tempat', 'aplikasi', 'internet', 'layan', 'tawar', 'fitur', 'transparansi', 'akses', 'multiplatform', 'skalabilitas', 'reliabilitas', 'buka', 'api', 'mudah', 'guna', 'layan', 'saat', 'sangat', 'jarang', 'utama', 'indonesia', 'masih', 'guna', 'platform', 'sama', 'shared', 'web', 'hosting', 'tugas', 'akhir', 'laku', 'ancang', 'implementasi', 'sistem', 'hosting', 'kembang', 'aplikasi', 'dukung', 'banyak', 'tenantpenyewa', 'multitenancy', 'dukung', 'banyak', 'platform', 'dukung', 'tiga', 'prinsip', 'komputasi', 'awan', 'yaitu', 'selfservice', 'resource', 'pooling', 'metered', 'service', 'sistem', 'ini', 'adopsi', 'beberapa', 'fitur', 'ada', 'di', 'cloud', 'web', 'hosting', 'modern', 'bisa', 'bangun', 'pihak', 'tiga', 'dengan', 'mudah']\n",
      "['layan', 'hosting', 'aplikasi', 'sering', 'sebut', 'application', 'hosting', 'web', 'hosting', 'rupa', 'layan', 'jamak', 'sedia', 'indonesia', 'layan', 'beri', 'wadah', 'siapa', 'menempatakan', 'aplikasi', 'web', 'serta', 'basis', 'data', 'jaring', 'internet', 'perlu', 'sedia', 'sendiri', 'infrastruktur', 'internet', 'dedikasi', 'layan', 'milik', 'bagai', 'macam', 'bentuk', 'salah', 'satu', 'paling', 'banyak', 'sedia', 'indonesia', 'shared', 'web', 'hosting', 'sedia', 'layan', 'sangat', 'murah', 'jenis', 'layan', 'sewa', 'beri', 'satu', 'buah', 'platform', 'sama', 'aplikasi', 'simpan', 'sama', 'satu', 'buah', 'server', 'mungkin', 'ada', 'bottleneck', 'itu', 'dapat', 'jenis', 'layan', 'virtual', 'private', 'server', 'vps', 'sedia', 'kendali', 'penuh', 'sistem', 'lalu', 'teknik', 'sebut', 'virtual', 'konfigurasi', 'sangat', 'kompleks', 'dapat', 'jenis', 'layan', 'hosting', 'baru', 'sebut', 'cloud', 'web', 'hosting', 'layan', 'adopsi', 'prinsip', 'komputasi', 'awan', 'upa', 'platformasaservice', 'paas', 'sedia', 'jasa', 'platform', 'kembang', 'web', 'tempat', 'aplikasi', 'internet', 'layan', 'tawar', 'fitur', 'transparansi', 'akses', 'multiplatform', 'skalabilitas', 'reliabilitas', 'buka', 'api', 'mudah', 'guna', 'layan', 'saat', 'sangat', 'jarang', 'utama', 'indonesia', 'masih', 'guna', 'platform', 'sama', 'shared', 'web', 'hosting', 'tugas', 'akhir', 'laku', 'ancang', 'implementasi', 'sistem', 'hosting', 'kembang', 'aplikasi', 'dukung', 'banyak', 'tenantpenyewa', 'multitenancy', 'dukung', 'banyak', 'platform', 'dukung', 'tiga', 'prinsip', 'komputasi', 'awan', 'yaitu', 'selfservice', 'resource', 'pooling', 'metered', 'service', 'sistem', 'ini', 'adopsi', 'beberapa', 'fitur', 'ada', 'di', 'cloud', 'web', 'hosting', 'modern', 'bisa', 'bangun', 'pihak', 'tiga', 'dengan', 'mudah']\n",
      "['didik', 'rupa', 'proses', 'terus', 'kembang', 'begitu', 'komponen', 'dalam', 'hal', 'ini', 'kurikulum', 'salah', 'satu', 'komponen', 'sistem', 'didik', 'juga', 'alami', 'ubah', 'sistem', 'didik', 'lebih', 'baik', 'ganti', 'kurikulum', 'akan', 'hasil', 'kompetensi', 'baru', 'rupa', 'baik', 'kompetensi', 'belum', 'perlu', 'jamin', 'mutu', 'its', 'bidang', 'ajar', 'sayang', 'bentuk', 'dokumentasi', 'jamin', 'mutu', 'sebut', 'ada', 'sistem', 'tentu', 'tampil', 'perlu', 'jamin', 'mutu', 'pada', 'tugas', 'akhir', 'rancang', 'buah', 'sistem', 'informasi', 'yang', 'tangan', 'perlu', 'atas', 'laku', 'data', 'kompetensi', 'masingmasing', 'jurus', 'dasar', 'periode', 'kurikulum', 'laku', 'data', 'lengkap', 'elemen', 'kurikulum', 'sistem', 'informasi', 'kurikulum', 'simkuri', 'dapat', 'bantu', 'pihak', 'manajemen', 'mutu', 'laku', 'monitoring', 'atas', 'lengkap', 'kurikulum', 'masingmasing', 'jurus', 'utama', 'kait', 'bidang', 'kompetensi', 'ajar', 'dan', 'bagi', 'atribut', 'mata', 'kuliah', 'jurus', 'dari', 'hasil', 'uji', 'jurus', 'di', 'its', 'simkuri', 'ini', 'dapat', 'tampil', 'kompetensi', 'jurus', 'sebut', 'mampu', 'untuk', 'laku', 'meta', 'kompetensi', 'kurikulum', 'hingga', 'pada', 'mata', 'kuliah', 'simkuri', 'dapat', 'tampil', 'daftar', 'lengkap', 'mata', 'kuliah', 'utama', 'kait', 'dengan', 'silabus', 'rencana', 'ajar', 'mata', 'kuliah', 'itu', 'sendiri', 'harap', 'dengan', 'guna', 'simkuri', 'dapat', 'mudah', 'pihak', 'manajemen', 'mutu', 'laku', 'evaluasi', 'proses', 'ajar', 'utama', 'bagi', 'kompetensi', 'kurikulum']\n"
     ]
    }
   ],
   "source": [
    "for x in paper[:5]:\n",
    "    text = x[2]\n",
    "    text = text.lower()\n",
    "    remove_punctuation_map = dict((ord(char), None) for char in string.punctuation)\n",
    "    text = text.translate(remove_punctuation_map)\n",
    "    text = stopword.remove(text)\n",
    "    text = text.split()\n",
    "    text = [stemmer.stem(x) for x in text]\n",
    "    print(text)"
   ]
  },
  {
   "cell_type": "code",
   "execution_count": null,
   "metadata": {},
   "outputs": [],
   "source": [
    "# mencoba scrap sinonimkata.com"
   ]
  },
  {
   "cell_type": "code",
   "execution_count": 29,
   "metadata": {},
   "outputs": [],
   "source": [
    "name = \"rancang\"\n",
    "data = { \"q\": name }\n",
    "encoded_data = urllib.parse.urlencode(data).encode(\"utf-8\")\n",
    "content = urllib.request.urlopen(\"http://www.sinonimkata.com/search.php\", encoded_data)\n",
    "soup = BeautifulSoup(content, 'html.parser')"
   ]
  },
  {
   "cell_type": "code",
   "execution_count": 31,
   "metadata": {},
   "outputs": [],
   "source": [
    "synonym = soup.find('td', attrs={'width': '90%'}).find_all('a')\n",
    "synonym = [x.getText() for x in synonym]"
   ]
  },
  {
   "cell_type": "code",
   "execution_count": null,
   "metadata": {},
   "outputs": [],
   "source": [
    "# bikin thesaurus:\n",
    "# list semua kata yg udah di-preprocess\n",
    "# jangan ada yg duplikat\n",
    "# terus masukin ke yg atas\n",
    "\n",
    "# jangan lupa liat gimana cara bikin dict di python"
   ]
  }
 ],
 "metadata": {
  "kernelspec": {
   "display_name": "Python 3",
   "language": "python",
   "name": "python3"
  },
  "language_info": {
   "codemirror_mode": {
    "name": "ipython",
    "version": 3
   },
   "file_extension": ".py",
   "mimetype": "text/x-python",
   "name": "python",
   "nbconvert_exporter": "python",
   "pygments_lexer": "ipython3",
   "version": "3.7.5"
  }
 },
 "nbformat": 4,
 "nbformat_minor": 2
}
